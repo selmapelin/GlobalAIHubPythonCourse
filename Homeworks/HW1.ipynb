{
  "nbformat": 4,
  "nbformat_minor": 0,
  "metadata": {
    "colab": {
      "name": "HW1.ipynb",
      "provenance": [],
      "collapsed_sections": []
    },
    "kernelspec": {
      "name": "python3",
      "display_name": "Python 3"
    }
  },
  "cells": [
    {
      "cell_type": "code",
      "metadata": {
        "colab": {
          "base_uri": "https://localhost:8080/"
        },
        "id": "oyQJohd_lZEt",
        "outputId": "efe7539a-a2a6-4a0c-b648-86b58ddae421"
      },
      "source": [
        "list_odds = [1,3,5,7,9]\r\n",
        "list_evens = [0,2,4,6,8]\r\n",
        "print(list_odds)\r\n",
        "print(list_evens)"
      ],
      "execution_count": 6,
      "outputs": [
        {
          "output_type": "stream",
          "text": [
            "[1, 3, 5, 7, 9]\n",
            "[0, 2, 4, 6, 8]\n"
          ],
          "name": "stdout"
        }
      ]
    },
    {
      "cell_type": "code",
      "metadata": {
        "colab": {
          "base_uri": "https://localhost:8080/"
        },
        "id": "TIyZ7Sksl9VP",
        "outputId": "0a132501-179d-402f-e81a-eb11e4f3e6ad"
      },
      "source": [
        "new_list = list(list_odds) + list(list_evens)\r\n",
        "print(new_list)"
      ],
      "execution_count": 7,
      "outputs": [
        {
          "output_type": "stream",
          "text": [
            "[1, 3, 5, 7, 9, 0, 2, 4, 6, 8]\n"
          ],
          "name": "stdout"
        }
      ]
    },
    {
      "cell_type": "code",
      "metadata": {
        "colab": {
          "base_uri": "https://localhost:8080/"
        },
        "id": "-NU6F8vzmyPu",
        "outputId": "cda27163-a738-47ec-86f8-9d01b22e3888"
      },
      "source": [
        "new_list_multiplied = [sayı*2 for sayı in new_list]\r\n",
        "print(new_list_multiplied)"
      ],
      "execution_count": 8,
      "outputs": [
        {
          "output_type": "stream",
          "text": [
            "[2, 6, 10, 14, 18, 0, 4, 8, 12, 16]\n"
          ],
          "name": "stdout"
        }
      ]
    },
    {
      "cell_type": "code",
      "metadata": {
        "colab": {
          "base_uri": "https://localhost:8080/"
        },
        "id": "qBnjHn9Vn-2Y",
        "outputId": "b6fff089-c443-4e29-a5f0-10fc8f17b5f6"
      },
      "source": [
        "new_list_multiplied = [2, 6, 10, 14, 18, 0, 4, 8, 12, 16]\r\n",
        "for sayı in new_list_multiplied:\r\n",
        "  print(type(sayı))"
      ],
      "execution_count": 9,
      "outputs": [
        {
          "output_type": "stream",
          "text": [
            "<class 'int'>\n",
            "<class 'int'>\n",
            "<class 'int'>\n",
            "<class 'int'>\n",
            "<class 'int'>\n",
            "<class 'int'>\n",
            "<class 'int'>\n",
            "<class 'int'>\n",
            "<class 'int'>\n",
            "<class 'int'>\n"
          ],
          "name": "stdout"
        }
      ]
    }
  ]
}